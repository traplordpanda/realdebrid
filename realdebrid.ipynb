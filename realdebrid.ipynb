{
 "cells": [
  {
   "cell_type": "code",
   "execution_count": null,
   "metadata": {},
   "outputs": [],
   "source": [
    "import os\n",
    "import requests\n",
    "from concurrent.futures import ThreadPoolExecutor\n",
    "import json\n",
    "from tqdm.notebook import tqdm"
   ]
  },
  {
   "cell_type": "code",
   "execution_count": null,
   "metadata": {},
   "outputs": [],
   "source": [
    "class RD:\n",
    "    def __init__(self, api_token: str):\n",
    "        self.headers = {\"Authorization\": f'Bearer {api_token}'}\n",
    "        self.tup_data = list()\n",
    "        self.savepath = ''\n",
    "        self.success = list()\n",
    "    \n",
    "    def tup(self, fpath):\n",
    "        r = requests.put('https://api.real-debrid.com/rest/1.0/torrents/addTorrent', data=open(fpath, 'rb'), headers=self.headers)\n",
    "        if r.ok:\n",
    "            return r.json()\n",
    "    \n",
    "    def ttup(self, fpaths):\n",
    "        with ThreadPoolExecutor(max_workers=20) as executor:\n",
    "            futures = executor.map(self.tup, fpaths)\n",
    "            for future in futures:\n",
    "                self.tup_data.append(future)\n",
    "\n",
    "    def get_tids(self):\n",
    "        response = requests.get(f'https://api.real-debrid.com/rest/1.0/torrents', headers=self.headers)\n",
    "        data = response.json()\n",
    "        return data\n",
    "\n",
    "    def get_tinfo(self, tid):\n",
    "        response = requests.get(f'https://api.real-debrid.com/rest/1.0/torrents/info/{tid}?', headers=self.headers)\n",
    "        data = response.json()\n",
    "        return data.json()\n",
    "\n",
    "    def dltor(self, data):\n",
    "        if data.get('status') == 'downloaded':\n",
    "                link_url = data.get('links')\n",
    "                params = {'link': link_url }\n",
    "                response = requests.post('https://api.real-debrid.com/rest/1.0/unrestrict/link', headers=self.headers, data=params)\n",
    "                d = response.json()\n",
    "\n",
    "                fname = data.get('filename')\n",
    "                totalfilename = os.path.join(self.savepath, fname)\n",
    "                total_length = data.get('bytes')\n",
    "                chunkSize = 16 * 1024\n",
    "                dlink = d.get('download')\n",
    "                r = requests.get(dlink, stream=True)\n",
    "                with open(totalfilename, 'wb+') as f:\n",
    "                    for i in tqdm(iterable = r.iter_content(chunk_size= chunkSize), total=total_length/chunkSize, unit = 'KB', desc=fname):\n",
    "                        f.write(i)\n",
    "                print(r)\n",
    "                return r\n",
    "                \n",
    "        return data.get('filename')\n",
    "    \n",
    "    def t_dltor(self, datas):\n",
    "        with ThreadPoolExecutor(max_workers=8) as executor:\n",
    "            futures = executor.map(self.dltor, datas)\n",
    "            for future in futures:\n",
    "                self.success.append(future)\n",
    "\n",
    "    def r_tor(self, tid):\n",
    "        response = requests.delete(f'https://api.real-debrid.com/rest/1.0/torrents/delete/{tid}', headers=self.headers)\n",
    "        return response\n"
   ]
  },
  {
   "cell_type": "code",
   "execution_count": null,
   "metadata": {},
   "outputs": [],
   "source": [
    "api_token = ''\n",
    "rd = RD(api_token)\n",
    "rd.savepath = r'C:\\\\mydocs'\n",
    "tids = rd.get_tids()\n",
    "for i in tids:\n",
    "    print(i.get('filename'))"
   ]
  }
 ],
 "metadata": {
  "language_info": {
   "name": "python"
  },
  "orig_nbformat": 4
 },
 "nbformat": 4,
 "nbformat_minor": 2
}
